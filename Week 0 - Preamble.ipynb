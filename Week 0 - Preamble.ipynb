{
 "cells": [
  {
   "cell_type": "markdown",
   "metadata": {},
   "source": [
    "# Computational Methods in Physics (FIS810)\n",
    "# UFPE - PPGFIS\n",
    "## Week 0 - Preamble"
   ]
  },
  {
   "cell_type": "code",
   "execution_count": 1,
   "metadata": {},
   "outputs": [],
   "source": [
    "import numpy as np\n",
    "import matplotlib.pyplot as plt\n",
    "\n",
    "# Plotting style\n",
    "\n",
    "plt.style.use('science')\n",
    "plt.rcParams['figure.figsize'] = (7,5)\n",
    "plt.rcParams['font.size'] = 15\n",
    "plt.rcParams['text.usetex'] = True"
   ]
  },
  {
   "cell_type": "markdown",
   "metadata": {},
   "source": [
    "# Finite difference methods"
   ]
  },
  {
   "cell_type": "code",
   "execution_count": 3,
   "metadata": {},
   "outputs": [
    {
     "data": {
      "image/png": "[encoded data removed]",
      "text/plain": [
       "<Figure size 432x288 with 1 Axes>"
      ]
     },
     "metadata": {
      "needs_background": "light"
     },
     "output_type": "display_data"
    }
   ],
   "source": [
    "dx = 0.1\n",
    "x = np.arange(0, 10+dx, dx)\n",
    "f = x**3\n",
    "\n",
    "# First derivative\n",
    "\n",
    "dfdx = np.zeros(len(f))\n",
    "\n",
    "# First step with forward difference\n",
    "dfdx[0] = (f[1] - f[0])/dx \n",
    "\n",
    "# Mid steps with central difference\n",
    "for i in range(1, len(f)-1):\n",
    "    dfdx[i] = (f[i+1] - f[i-1])/(2*dx)\n",
    "\n",
    "# Last step with backward difference    \n",
    "dfdx[-1] = (f[-1] - f[-2])/dx \n",
    "\n",
    "plt.plot(x, 3*x**2, label=\"$f'(x) = 3x^2$\")\n",
    "plt.plot(x[::10], dfdx[::10], marker='o', ls='', label='Numerical')\n",
    "plt.xlabel('x')\n",
    "plt.legend()\n",
    "plt.show()"
   ]
  },
  {
   "cell_type": "code",
   "execution_count": 4,
   "metadata": {},
   "outputs": [],
   "source": [
    "# Widgets"
   ]
  },
  {
   "cell_type": "code",
   "execution_count": null,
   "metadata": {},
   "outputs": [],
   "source": []
  },
  {
   "cell_type": "code",
   "execution_count": null,
   "metadata": {},
   "outputs": [],
   "source": []
  },
  {
   "cell_type": "code",
   "execution_count": null,
   "metadata": {},
   "outputs": [],
   "source": []
  },
  {
   "cell_type": "markdown",
   "metadata": {},
   "source": [
    "# Root finding"
   ]
  },
  {
   "cell_type": "markdown",
   "metadata": {},
   "source": [
    "### Relaxation Method for non-linear equations"
   ]
  },
  {
   "cell_type": "markdown",
   "metadata": {},
   "source": [
    "We aim to solve\n",
    "\n",
    "\\begin{equation}\n",
    "x + e^{-2x} = 1.\n",
    "\\end{equation}\n",
    "\n",
    "We could rewrite this equation in the form of $x = f(x)$ and iterate until we find a convergent $x_0$ value. One possibility is\n",
    "\n",
    "\\begin{equation}\n",
    "x  = 1 + e^{-2x}, \n",
    "\\end{equation}\n",
    "in this form, $f(x) = 1 + e^{-2x}$."
   ]
  },
  {
   "cell_type": "code",
   "execution_count": 7,
   "metadata": {},
   "outputs": [
    {
     "data": {
      "image/png": "[encoded data removed]",
      "text/plain": [
       "<Figure size 432x288 with 1 Axes>"
      ]
     },
     "metadata": {
      "needs_background": "light"
     },
     "output_type": "display_data"
    }
   ],
   "source": [
    "# Inspecting the problem graphically\n",
    "\n",
    "def f(x):\n",
    "    return 1 - np.exp(-2*x)\n",
    "\n",
    "x = np.linspace(-1, 1, 101)\n",
    "\n",
    "plt.plot(x, f(x), label='f(x)')\n",
    "plt.plot(x, x, label='x')\n",
    "plt.xlabel('x')\n",
    "plt.grid()\n",
    "plt.legend()\n",
    "plt.show()"
   ]
  },
  {
   "cell_type": "code",
   "execution_count": 8,
   "metadata": {},
   "outputs": [],
   "source": [
    "# Writting our relaxation function\n",
    "\n",
    "def relaxation_method(f, x0, N=100, tol=1e-6):\n",
    "    x_old = x0\n",
    "    for i in range(N):\n",
    "        x_new = f(x_old)\n",
    "        if abs(x_new - x_old) < tol:\n",
    "            print(f'Converged at x = {x_new} after {i+1} iterations.')\n",
    "            break\n",
    "        x_old = x_new\n",
    "    else:\n",
    "        print(f'Convergence failed. Last x = {x_new}.')"
   ]
  },
  {
   "cell_type": "code",
   "execution_count": 9,
   "metadata": {},
   "outputs": [
    {
     "name": "stdout",
     "output_type": "stream",
     "text": [
      "Converged at x = 0.7968118244957711 after 16 iterations.\n"
     ]
    }
   ],
   "source": [
    "# Looks like we have a solution around x = 0.5\n",
    "\n",
    "relaxation_method(f, 0.5)"
   ]
  },
  {
   "cell_type": "code",
   "execution_count": 10,
   "metadata": {},
   "outputs": [
    {
     "name": "stdout",
     "output_type": "stream",
     "text": [
      "Convergence failed. Last x = -inf.\n"
     ]
    },
    {
     "name": "stderr",
     "output_type": "stream",
     "text": [
      "<ipython-input-7-ef7d999db4a4>:4: RuntimeWarning: overflow encountered in exp\n",
      "  return 1 - np.exp(-2*x)\n",
      "<ipython-input-8-64544049317c>:7: RuntimeWarning: invalid value encountered in double_scalars\n",
      "  if abs(x_new - x_old) < tol:\n"
     ]
    }
   ],
   "source": [
    "# The other solution seems to be  around x = 0. But that won't converge with our choice for f(x)\n",
    "\n",
    "relaxation_method(f, -0.1)"
   ]
  },
  {
   "cell_type": "markdown",
   "metadata": {},
   "source": [
    "Instead, we could make a different choice for f(x):\n",
    "\n",
    "\\begin{equation}\n",
    "x + e^{-2x} = 1.\n",
    "\\end{equation}\n",
    "\n",
    "\\begin{equation}\n",
    "x = -\\frac{1}{2} \\ln(1 - x), \n",
    "\\end{equation}\n",
    "\n",
    "in this form, $f(x) = -\\frac{1}{2} \\ln(1 - x)$."
   ]
  },
  {
   "cell_type": "code",
   "execution_count": 11,
   "metadata": {},
   "outputs": [
    {
     "data": {
      "image/png": "[encoded data removed]",
      "text/plain": [
       "<Figure size 432x288 with 1 Axes>"
      ]
     },
     "metadata": {
      "needs_background": "light"
     },
     "output_type": "display_data"
    }
   ],
   "source": [
    "# Inspecting the problem graphically\n",
    "\n",
    "def f_new(x):\n",
    "    return -0.5*np.log(1-x)\n",
    "\n",
    "x = np.linspace(-0.9, 0.9, 101)\n",
    "\n",
    "plt.plot(x, f_new(x), label='f(x)')\n",
    "plt.plot(x, x, label='x')\n",
    "plt.xlabel('x')\n",
    "plt.grid()\n",
    "plt.legend()\n",
    "plt.show()"
   ]
  },
  {
   "cell_type": "code",
   "execution_count": 12,
   "metadata": {},
   "outputs": [
    {
     "name": "stdout",
     "output_type": "stream",
     "text": [
      "Converged at x = 6.165233089765411e-07 after 14 iterations.\n"
     ]
    }
   ],
   "source": [
    "# Solution around 0.7\n",
    "\n",
    "relaxation_method(f_new, 0.01)"
   ]
  },
  {
   "cell_type": "markdown",
   "metadata": {},
   "source": [
    "Why sometimes our method doesn't converge? Let our solution be $x_0 = f(x_0)$ at the $i^{th}$ iteration\n",
    "\n",
    "\\begin{equation}\n",
    "x_i = f(x_{i-1}).\n",
    "\\end{equation}\n",
    "\n",
    "Taylor expanding the RHS around $x_0$:\n",
    "\n",
    "\\begin{equation}\n",
    "x_i = f(x_0) + (x_{i-1} - x_0)f'(x_0) + ...\n",
    "\\end{equation}\n",
    "\n",
    "but $f(x_0) = x_0$. Defining $\\Delta x_i = (x_i - x_0)$,\n",
    "\n",
    "\\begin{equation}\n",
    "x_i - x_0 \\approx (x_{i-1} - x_0)f'(x_0)\n",
    "\\end{equation}\n",
    "\n",
    "\\begin{equation}\n",
    "\\Delta x_i \\approx \\Delta x_{i-1}f'(x_0)\n",
    "\\end{equation}\n",
    "\n",
    "\\begin{equation}\n",
    "\\frac{\\Delta x_i}{\\Delta x_{i-1}} \\approx f'(x_0)\n",
    "\\end{equation}\n",
    "\n",
    "Therefore, our result will converge if $|f'(x_0)| < 1$."
   ]
  },
  {
   "cell_type": "code",
   "execution_count": 13,
   "metadata": {},
   "outputs": [],
   "source": [
    "# Integration"
   ]
  },
  {
   "cell_type": "code",
   "execution_count": null,
   "metadata": {},
   "outputs": [],
   "source": []
  },
  {
   "cell_type": "code",
   "execution_count": null,
   "metadata": {},
   "outputs": [],
   "source": []
  },
  {
   "cell_type": "code",
   "execution_count": null,
   "metadata": {},
   "outputs": [],
   "source": []
  }
 ],
 "metadata": {
  "kernelspec": {
   "display_name": "Python 3",
   "language": "python",
   "name": "python3"
  },
  "language_info": {
   "codemirror_mode": {
    "name": "ipython",
    "version": 3
   },
   "file_extension": ".py",
   "mimetype": "text/x-python",
   "name": "python",
   "nbconvert_exporter": "python",
   "pygments_lexer": "ipython3",
   "version": "3.8.10"
  },
  "varInspector": {
   "cols": {
    "lenName": 16,
    "lenType": 16,
    "lenVar": 40
   },
   "kernels_config": {
    "python": {
     "delete_cmd_postfix": "",
     "delete_cmd_prefix": "del ",
     "library": "var_list.py",
     "varRefreshCmd": "print(var_dic_list())"
    },
    "r": {
     "delete_cmd_postfix": ") ",
     "delete_cmd_prefix": "rm(",
     "library": "var_list.r",
     "varRefreshCmd": "cat(var_dic_list()) "
    }
   },
   "types_to_exclude": [
    "module",
    "function",
    "builtin_function_or_method",
    "instance",
    "_Feature"
   ],
   "window_display": false
  }
 },
 "nbformat": 4,
 "nbformat_minor": 4
}
